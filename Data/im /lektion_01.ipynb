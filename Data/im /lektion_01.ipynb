{
 "cells": [
  {
   "cell_type": "markdown",
   "id": "55e994a8",
   "metadata": {},
   "source": [
    "# Megatutorial 1: Explorative Datenanalyse \n",
    "In diesem Megatutorial beschäftigen wir uns mit der explorativen Datenanlayse in Python \n",
    "\n",
    "## Aufgaben\n",
    "\n",
    "* Lade die Daten in `pandas`.\n",
    "* Führe eine deskriptive Datenanalyse mit geeigneten, statisches Maßen durch.\n",
    "* Führe eine deskriptive Datenanalyse mit Hilfe von geeigneten Visualisierungen durch."
   ]
  },
  {
   "cell_type": "markdown",
   "id": "c71636d9",
   "metadata": {},
   "source": [
    "## Daten in `Pandas` laden "
   ]
  },
  {
   "cell_type": "code",
   "execution_count": 3,
   "id": "a1d3bc40",
   "metadata": {},
   "outputs": [],
   "source": [
    "from pandas import read_csv\n",
    "from matplotlib import pyplot as plt\n",
    "import seaborn as sns"
   ]
  },
  {
   "cell_type": "code",
   "execution_count": null,
   "id": "2fd34dad",
   "metadata": {},
   "outputs": [],
   "source": []
  }
 ],
 "metadata": {
  "kernelspec": {
   "display_name": ".venv",
   "language": "python",
   "name": "python3"
  },
  "language_info": {
   "codemirror_mode": {
    "name": "ipython",
    "version": 3
   },
   "file_extension": ".py",
   "mimetype": "text/x-python",
   "name": "python",
   "nbconvert_exporter": "python",
   "pygments_lexer": "ipython3",
   "version": "3.12.1"
  }
 },
 "nbformat": 4,
 "nbformat_minor": 5
}
