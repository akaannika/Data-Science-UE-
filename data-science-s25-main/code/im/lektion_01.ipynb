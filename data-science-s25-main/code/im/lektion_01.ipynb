{
 "cells": [
  {
   "cell_type": "markdown",
   "id": "55e994a8",
   "metadata": {},
   "source": [
    "# Megatutorial 1: Explorative Datenanalyse \n",
    "In diesem Megatutorial beschäftigen wir uns mit der explorativen Datenanlayse in Python \n",
    "\n",
    "## Aufgaben\n",
    "\n",
    "* Lade die Daten in `pandas`.\n",
    "* Führe eine deskriptive Datenanalyse mit geeigneten, statisches Maßen durch.\n",
    "* Führe eine deskriptive Datenanalyse mit Hilfe von geeigneten Visualisierungen durch."
   ]
  },
  {
   "cell_type": "markdown",
   "id": "c71636d9",
   "metadata": {},
   "source": [
    "## Daten in `Pandas` laden "
   ]
  },
  {
   "cell_type": "code",
   "execution_count": 2,
   "id": "a1d3bc40",
   "metadata": {},
   "outputs": [],
   "source": [
    "from pandas import read_csv\n",
    "from matplotlib import pyplot as plt\n",
    "import seaborn as sns"
   ]
  },
  {
   "cell_type": "code",
   "execution_count": 10,
   "id": "2fd34dad",
   "metadata": {},
   "outputs": [],
   "source": [
    "data = read_csv(\n",
    "    \"../../data/fake_profiles.csv\", \n",
    "    sep=\",\", \n",
    "    decimal=\".\", \n",
    "    usecols=range(1,13)\n",
    "    )"
   ]
  },
  {
   "cell_type": "markdown",
   "id": "2c83d9d9",
   "metadata": {},
   "source": [
    "# Einfache Statistische Auswertung "
   ]
  },
  {
   "cell_type": "code",
   "execution_count": 11,
   "id": "e9ee6bb1",
   "metadata": {},
   "outputs": [
    {
     "name": "stdout",
     "output_type": "stream",
     "text": [
      "<class 'pandas.core.frame.DataFrame'>\n",
      "RangeIndex: 576 entries, 0 to 575\n",
      "Data columns (total 12 columns):\n",
      " #   Column                         Non-Null Count  Dtype  \n",
      "---  ------                         --------------  -----  \n",
      " 0   profile_pic                    576 non-null    object \n",
      " 1   rel_num_numeric_char_username  576 non-null    float64\n",
      " 2   words_fullname                 576 non-null    int64  \n",
      " 3   rel_num_numeric_char_fullname  576 non-null    float64\n",
      " 4   name=username                  576 non-null    object \n",
      " 5   description_length             576 non-null    int64  \n",
      " 6   has_external_url               576 non-null    object \n",
      " 7   is_private                     576 non-null    object \n",
      " 8   num_posts                      576 non-null    int64  \n",
      " 9   num_followers                  556 non-null    float64\n",
      " 10  num_follows                    576 non-null    int64  \n",
      " 11  is_fake                        576 non-null    object \n",
      "dtypes: float64(3), int64(4), object(5)\n",
      "memory usage: 54.1+ KB\n"
     ]
    }
   ],
   "source": [
    "data.info()"
   ]
  },
  {
   "cell_type": "code",
   "execution_count": 12,
   "id": "72d3d2d5",
   "metadata": {},
   "outputs": [
    {
     "data": {
      "text/html": [
       "<div>\n",
       "<style scoped>\n",
       "    .dataframe tbody tr th:only-of-type {\n",
       "        vertical-align: middle;\n",
       "    }\n",
       "\n",
       "    .dataframe tbody tr th {\n",
       "        vertical-align: top;\n",
       "    }\n",
       "\n",
       "    .dataframe thead th {\n",
       "        text-align: right;\n",
       "    }\n",
       "</style>\n",
       "<table border=\"1\" class=\"dataframe\">\n",
       "  <thead>\n",
       "    <tr style=\"text-align: right;\">\n",
       "      <th></th>\n",
       "      <th>rel_num_numeric_char_username</th>\n",
       "      <th>words_fullname</th>\n",
       "      <th>rel_num_numeric_char_fullname</th>\n",
       "      <th>description_length</th>\n",
       "      <th>num_posts</th>\n",
       "      <th>num_followers</th>\n",
       "      <th>num_follows</th>\n",
       "    </tr>\n",
       "  </thead>\n",
       "  <tbody>\n",
       "    <tr>\n",
       "      <th>count</th>\n",
       "      <td>576.000000</td>\n",
       "      <td>576.000000</td>\n",
       "      <td>576.000000</td>\n",
       "      <td>576.000000</td>\n",
       "      <td>576.000000</td>\n",
       "      <td>5.560000e+02</td>\n",
       "      <td>576.000000</td>\n",
       "    </tr>\n",
       "    <tr>\n",
       "      <th>mean</th>\n",
       "      <td>0.163837</td>\n",
       "      <td>1.460069</td>\n",
       "      <td>0.036094</td>\n",
       "      <td>22.623264</td>\n",
       "      <td>107.489583</td>\n",
       "      <td>8.835909e+04</td>\n",
       "      <td>508.381944</td>\n",
       "    </tr>\n",
       "    <tr>\n",
       "      <th>std</th>\n",
       "      <td>0.214096</td>\n",
       "      <td>1.052601</td>\n",
       "      <td>0.125121</td>\n",
       "      <td>37.702987</td>\n",
       "      <td>402.034431</td>\n",
       "      <td>9.262573e+05</td>\n",
       "      <td>917.981239</td>\n",
       "    </tr>\n",
       "    <tr>\n",
       "      <th>min</th>\n",
       "      <td>0.000000</td>\n",
       "      <td>0.000000</td>\n",
       "      <td>0.000000</td>\n",
       "      <td>0.000000</td>\n",
       "      <td>0.000000</td>\n",
       "      <td>0.000000e+00</td>\n",
       "      <td>0.000000</td>\n",
       "    </tr>\n",
       "    <tr>\n",
       "      <th>25%</th>\n",
       "      <td>0.000000</td>\n",
       "      <td>1.000000</td>\n",
       "      <td>0.000000</td>\n",
       "      <td>0.000000</td>\n",
       "      <td>0.000000</td>\n",
       "      <td>3.800000e+01</td>\n",
       "      <td>57.500000</td>\n",
       "    </tr>\n",
       "    <tr>\n",
       "      <th>50%</th>\n",
       "      <td>0.000000</td>\n",
       "      <td>1.000000</td>\n",
       "      <td>0.000000</td>\n",
       "      <td>0.000000</td>\n",
       "      <td>9.000000</td>\n",
       "      <td>1.415000e+02</td>\n",
       "      <td>229.500000</td>\n",
       "    </tr>\n",
       "    <tr>\n",
       "      <th>75%</th>\n",
       "      <td>0.310000</td>\n",
       "      <td>2.000000</td>\n",
       "      <td>0.000000</td>\n",
       "      <td>34.000000</td>\n",
       "      <td>81.500000</td>\n",
       "      <td>7.285000e+02</td>\n",
       "      <td>589.500000</td>\n",
       "    </tr>\n",
       "    <tr>\n",
       "      <th>max</th>\n",
       "      <td>0.920000</td>\n",
       "      <td>12.000000</td>\n",
       "      <td>1.000000</td>\n",
       "      <td>150.000000</td>\n",
       "      <td>7389.000000</td>\n",
       "      <td>1.533854e+07</td>\n",
       "      <td>7500.000000</td>\n",
       "    </tr>\n",
       "  </tbody>\n",
       "</table>\n",
       "</div>"
      ],
      "text/plain": [
       "       rel_num_numeric_char_username  words_fullname  \\\n",
       "count                     576.000000      576.000000   \n",
       "mean                        0.163837        1.460069   \n",
       "std                         0.214096        1.052601   \n",
       "min                         0.000000        0.000000   \n",
       "25%                         0.000000        1.000000   \n",
       "50%                         0.000000        1.000000   \n",
       "75%                         0.310000        2.000000   \n",
       "max                         0.920000       12.000000   \n",
       "\n",
       "       rel_num_numeric_char_fullname  description_length    num_posts  \\\n",
       "count                     576.000000          576.000000   576.000000   \n",
       "mean                        0.036094           22.623264   107.489583   \n",
       "std                         0.125121           37.702987   402.034431   \n",
       "min                         0.000000            0.000000     0.000000   \n",
       "25%                         0.000000            0.000000     0.000000   \n",
       "50%                         0.000000            0.000000     9.000000   \n",
       "75%                         0.000000           34.000000    81.500000   \n",
       "max                         1.000000          150.000000  7389.000000   \n",
       "\n",
       "       num_followers  num_follows  \n",
       "count   5.560000e+02   576.000000  \n",
       "mean    8.835909e+04   508.381944  \n",
       "std     9.262573e+05   917.981239  \n",
       "min     0.000000e+00     0.000000  \n",
       "25%     3.800000e+01    57.500000  \n",
       "50%     1.415000e+02   229.500000  \n",
       "75%     7.285000e+02   589.500000  \n",
       "max     1.533854e+07  7500.000000  "
      ]
     },
     "execution_count": 12,
     "metadata": {},
     "output_type": "execute_result"
    }
   ],
   "source": [
    "data.describe()"
   ]
  },
  {
   "cell_type": "code",
   "execution_count": 15,
   "id": "63353496",
   "metadata": {},
   "outputs": [
    {
     "data": {
      "text/plain": [
       "array([ 0,  2,  2,  1,  2,  4,  2,  2,  0,  2,  2,  2,  2,  2,  2,  3,  3,\n",
       "        3,  2,  2,  2,  1,  2,  1,  0,  1,  6,  2,  2,  2,  2,  0,  2,  2,\n",
       "        2,  2,  0,  2,  2,  2,  0,  2,  2,  2,  4,  3,  2,  2,  1,  0,  3,\n",
       "        2,  1,  2,  0,  1,  2,  1,  1,  2,  1,  1,  2,  1,  2,  2,  2,  1,\n",
       "        2,  3,  2,  1,  1,  2,  2,  1,  2,  2,  3,  1,  2,  2,  3,  2,  2,\n",
       "        3,  1,  1,  0,  1,  2,  2,  1,  2,  1,  2,  1,  0,  0,  3,  2,  0,\n",
       "        3,  1,  2,  1,  0,  2,  2,  2,  2,  1,  1,  1,  1,  1,  1,  1,  0,\n",
       "        1,  2,  0,  2,  2,  2,  0,  2,  1,  2,  1,  4,  1,  2,  3,  2,  0,\n",
       "        2,  2,  1,  3,  0,  1, 12,  2,  1,  2,  2,  5,  2,  2,  2,  2,  1,\n",
       "        2,  2,  2,  3,  2,  2,  0,  1,  3,  1,  2,  3,  6,  1,  0,  2,  1,\n",
       "        1,  3,  1,  2,  0,  2, 10,  2,  5,  2,  2,  2,  2,  2,  2,  2,  3,\n",
       "        1,  2,  2,  1,  2,  2,  4,  1,  2,  2,  2,  2,  2,  2,  0,  1,  1,\n",
       "        2,  0,  1,  4,  0,  2,  2,  2,  2,  2,  2,  2,  3,  2,  0,  2,  2,\n",
       "        1,  1,  1,  1,  1,  1,  3,  2,  1,  2,  2,  3,  5,  2,  2,  2,  3,\n",
       "        2,  2,  2,  2,  1,  2,  2,  1,  0,  0,  1,  1,  0,  1,  2,  1,  1,\n",
       "        1,  0,  1,  2,  2,  2,  2,  3,  2,  2,  2,  2,  2,  2,  2,  3,  1,\n",
       "        2,  2,  2,  3,  1,  2,  0,  1,  1,  1,  2,  1,  1,  2,  2,  2,  1,\n",
       "        1,  1,  0,  3,  2,  1,  1,  1,  2,  1,  1,  1,  0,  1,  1,  1,  1,\n",
       "        1,  1,  3,  1,  1,  1,  1,  1,  1,  1,  0,  2,  1,  1,  1,  1,  1,\n",
       "        1,  1,  1,  1,  1,  1,  1,  1,  1,  1,  0,  1,  1,  1,  1,  0,  1,\n",
       "        1,  2,  2,  1,  2,  1,  1,  3,  1,  1,  1,  1,  1,  5,  0,  1,  0,\n",
       "        1,  1,  1,  1,  1,  1,  1,  0,  1,  0,  0,  1,  1,  1,  2,  1,  0,\n",
       "        1,  1,  2,  0,  1,  1,  1,  1,  1,  1,  0,  1,  1,  2,  1,  1,  1,\n",
       "        1,  1,  1,  1,  0,  1,  1,  0,  1,  0,  1,  2,  2,  3,  1,  0,  1,\n",
       "        1,  1,  2,  1,  3,  2,  4,  1,  2,  1,  1,  2,  2,  0,  1,  1,  0,\n",
       "        1,  1,  1,  1,  1,  1,  1,  1,  1,  2,  3,  2,  1,  1,  1,  1,  1,\n",
       "        3,  2,  0,  3,  2,  0,  1,  1,  0,  2,  0,  1,  1,  1,  1,  1,  1,\n",
       "        2,  1,  1,  1,  1,  1,  1,  1,  2,  1,  2,  1,  1,  1,  1,  1,  1,\n",
       "        1,  1,  1,  1,  0,  1,  1,  2,  1,  1,  1,  1,  1,  2,  1,  1,  1,\n",
       "        1,  1,  2,  1,  1,  1,  1,  2,  1,  1,  2,  1,  1,  2,  1,  1,  0,\n",
       "        1,  1,  1,  1,  1,  0,  1,  1,  2,  1,  1,  1,  2,  1,  2,  1,  1,\n",
       "        1,  1,  1,  1,  1,  1,  1,  2,  2,  1,  1,  2,  1,  1,  2,  1,  1,\n",
       "        2,  1,  1,  1,  1,  1,  0,  1,  1,  1,  1,  1,  1,  1,  1,  1,  4,\n",
       "        2,  1,  2,  1,  1,  1,  1,  1,  3,  1,  1,  1,  2,  1,  1])"
      ]
     },
     "execution_count": 15,
     "metadata": {},
     "output_type": "execute_result"
    }
   ],
   "source": [
    "data[\"words_fullname\"].values"
   ]
  },
  {
   "cell_type": "code",
   "execution_count": null,
   "id": "f9173c84",
   "metadata": {},
   "outputs": [],
   "source": []
  }
 ],
 "metadata": {
  "kernelspec": {
   "display_name": ".venv",
   "language": "python",
   "name": "python3"
  },
  "language_info": {
   "codemirror_mode": {
    "name": "ipython",
    "version": 3
   },
   "file_extension": ".py",
   "mimetype": "text/x-python",
   "name": "python",
   "nbconvert_exporter": "python",
   "pygments_lexer": "ipython3",
   "version": "3.12.1"
  }
 },
 "nbformat": 4,
 "nbformat_minor": 5
}
